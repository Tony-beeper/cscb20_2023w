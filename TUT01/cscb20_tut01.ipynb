{
 "cells": [
  {
   "cell_type": "code",
   "execution_count": 19,
   "id": "ae0617fc-b6c8-4c45-a3d3-a5d58b424e49",
   "metadata": {},
   "outputs": [
    {
     "name": "stdout",
     "output_type": "stream",
     "text": [
      "[[0, 0, 0, 0, 0, 0, 0, 0, 0, 0, 0, 0, 0, 0, 0, 0, 0, 0, 0, 0, 0, 0, 0, 0], [0, 0, 0, 0, 0, 0, 0, 0, 0, 0, 0, 0, 0, 0, 0, 0, 0, 0, 0, 0, 0, 0, 0, 0], [0, 0, 0, 0, 0, 0, 0, 0, 0, 0, 0, 0, 0, 0, 0, 0, 0, 0, 0, 0, 0, 0, 0, 0], [0, 0, 0, 0, 0, 0, 0, 0, 0, 0, 0, 0, 0, 0, 0, 0, 0, 0, 0, 0, 0, 0, 0, 0], [0, 0, 0, 0, 0, 0, 0, 0, 0, 0, 0, 0, 0, 0, 0, 0, 0, 0, 0, 0, 0, 0, 0, 0], [0, 0, 0, 0, 0, 0, 0, 0, 0, 0, 0, 0, 0, 0, 0, 0, 0, 0, 0, 0, 0, 0, 0, 0], [0, 0, 0, 0, 0, 0, 0, 0, 0, 0, 0, 0, 0, 0, 0, 0, 0, 0, 0, 0, 0, 0, 0, 0]]\n"
     ]
    }
   ],
   "source": [
    "def timevote(my_calendar, day, date):\n",
    "    if day == \"Mon\":\n",
    "        my_calendar[0][int(date)]+= 1\n",
    "    elif day == \"Tue\":\n",
    "        my_calendar[1][int(date)]+= 1\n",
    "    elif day == \"Wed\":\n",
    "        my_calendar[2][int(date)]+= 1\n",
    "    elif day == \"Thu\":\n",
    "        my_calendar[3][int(date)]+= 1\n",
    "    elif day == \"Fri\":\n",
    "        my_calendar[4][int(date)] += 1\n",
    "    elif day == \"Sat\":\n",
    "        my_calendar[5][int(date)]+= 1\n",
    "    elif day == \"Sun\":\n",
    "        my_calendar[6][int(date)]+= 1\n",
    "    # print(my_calendar)\n",
    "    return my_calendar\n",
    "print([[0 for i in range(24)] for i in range(7)])"
   ]
  },
  {
   "cell_type": "code",
   "execution_count": 20,
   "id": "adfca034-6b88-4856-8bed-b874d931c3c8",
   "metadata": {},
   "outputs": [
    {
     "name": "stdout",
     "output_type": "stream",
     "text": [
      "['Mon', '17']\n",
      "['Tue', '11']\n",
      "['Mon', '18']\n",
      "['Fri', '9']\n",
      "['Thu', '13']\n",
      "['Sat', '9']\n",
      "['Wed', '12']\n",
      "['Fri', '17']\n",
      "['Mon', '13']\n",
      "[[0, 0, 0, 0, 0, 0, 0, 0, 0, 0, 0, 0, 0, 1, 0, 0, 0, 1, 1, 0, 0, 0, 0, 0], [0, 0, 0, 0, 0, 0, 0, 0, 0, 0, 0, 1, 0, 0, 0, 0, 0, 0, 0, 0, 0, 0, 0, 0], [0, 0, 0, 0, 0, 0, 0, 0, 0, 0, 0, 0, 1, 0, 0, 0, 0, 0, 0, 0, 0, 0, 0, 0], [0, 0, 0, 0, 0, 0, 0, 0, 0, 0, 0, 0, 0, 1, 0, 0, 0, 0, 0, 0, 0, 0, 0, 0], [0, 0, 0, 0, 0, 0, 0, 0, 0, 1, 0, 0, 0, 0, 0, 0, 0, 1, 0, 0, 0, 0, 0, 0], [0, 0, 0, 0, 0, 0, 0, 0, 0, 1, 0, 0, 0, 0, 0, 0, 0, 0, 0, 0, 0, 0, 0, 0], [0, 0, 0, 0, 0, 0, 0, 0, 0, 0, 0, 0, 0, 0, 0, 0, 0, 0, 0, 0, 0, 0, 0, 0]]\n"
     ]
    }
   ],
   "source": [
    "my_calendar = [[0 for i in range(24)] for i in range(7)]\n",
    "my_file = open(\"tut01_votes.txt\", \"r\")\n",
    "counter = 0\n",
    "for next_line in my_file:\n",
    "    if counter >= 2:\n",
    "        line = next_line.strip().split(\",\")\n",
    "        print(line)\n",
    "        my_calendar = timevote(my_calendar, line[0], line[1])\n",
    "    else:\n",
    "        counter = counter + 1\n",
    "print(my_calendar)\n",
    "my_file.close()\n",
    "#test_string = \"the dog chased the cat and the cat chased the mouse and the mouse chased the cheese\"        \n",
    "\n",
    "\n"
   ]
  },
  {
   "cell_type": "code",
   "execution_count": null,
   "id": "e5ea8d3f-5d98-48e7-b1dc-f66d00ae399e",
   "metadata": {},
   "outputs": [],
   "source": []
  },
  {
   "cell_type": "code",
   "execution_count": null,
   "id": "f03d4314-64ae-4be8-bc44-8b1bbf836c73",
   "metadata": {},
   "outputs": [],
   "source": []
  }
 ],
 "metadata": {
  "kernelspec": {
   "display_name": "Python 3 (ipykernel)",
   "language": "python",
   "name": "python3"
  },
  "language_info": {
   "codemirror_mode": {
    "name": "ipython",
    "version": 3
   },
   "file_extension": ".py",
   "mimetype": "text/x-python",
   "name": "python",
   "nbconvert_exporter": "python",
   "pygments_lexer": "ipython3",
   "version": "3.9.7"
  }
 },
 "nbformat": 4,
 "nbformat_minor": 5
}
